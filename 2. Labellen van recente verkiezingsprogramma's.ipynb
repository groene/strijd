{
 "cells": [
  {
   "cell_type": "markdown",
   "id": "adcba172",
   "metadata": {},
   "source": [
    "## 2. Labellen van recente verkiezingsprogramma\n",
    "\n",
    "De data van het Manifesto-project loopt tot en met 2022. Om de Nederlandse verkiezingsprogramma's voor dit jaar de classificeren, maken we gebruik van automatisch classificatiemodellen. We splitsen de programma's, die opgehaald zijn met behulp van code uit [deze repository](https://github.com/vanatteveldt/2023-manifestos-nl/tree/main), op in zinnen, en voeden die zinnen aan twee classificatiemodellen: één die bepaald of een zin uberhaupt relevant is, en één die de juist de code aan de relevante zinnen haalt. Het eerste classificatiemodel trainden we zelf, en is [hier](https://huggingface.co/joris/manifesto-dutch-binary-relevance) publiekelijk beschikbaar; het tweede is [beschikbaar gesteld](https://huggingface.co/manifesto-project/manifestoberta-xlm-roberta-56policy-topics-context-2023-1-1) door onderzoekers van het Manifesto Project."
   ]
  },
  {
   "cell_type": "code",
   "execution_count": 1,
   "id": "508afdc5",
   "metadata": {},
   "outputs": [],
   "source": [
    "import spacy\n",
    "import pandas as pd\n",
    "from tqdm.auto import tqdm\n",
    "\n",
    "nlp = spacy.load('nl_core_news_sm')\n",
    "data = pd.read_csv('data/manifestos_nl_2023.csv')"
   ]
  },
  {
   "cell_type": "code",
   "execution_count": 2,
   "id": "de250f4c",
   "metadata": {},
   "outputs": [],
   "source": [
    "texts = list(data.text)\n",
    "processed_texts = [text for text in tqdm(nlp.pipe(texts, \n",
    "                                              n_process=8, # four threads\n",
    "                                              disable=[\"ner\"]),\n",
    "                                          total=len(texts))]"
   ]
  },
  {
   "cell_type": "code",
   "execution_count": 3,
   "id": "a9e880b2",
   "metadata": {},
   "outputs": [],
   "source": [
    "sentences = [[sent.text for sent in text.sents] for text in processed_texts]\n",
    "data['sentences'] = sentences"
   ]
  },
  {
   "cell_type": "code",
   "execution_count": 4,
   "id": "a8e46d15",
   "metadata": {},
   "outputs": [],
   "source": [
    "rows = []\n",
    "for i, row in data.iterrows():\n",
    "    for sentence in row.sentences:\n",
    "        rows.append(dict(party=row['party'],\n",
    "                         url=row['url'],\n",
    "                         title=row['title'],\n",
    "                         sentence=sentence))"
   ]
  },
  {
   "cell_type": "code",
   "execution_count": 22,
   "id": "12928d6a",
   "metadata": {},
   "outputs": [
    {
     "data": {
      "text/html": [
       "<div>\n",
       "<style scoped>\n",
       "    .dataframe tbody tr th:only-of-type {\n",
       "        vertical-align: middle;\n",
       "    }\n",
       "\n",
       "    .dataframe tbody tr th {\n",
       "        vertical-align: top;\n",
       "    }\n",
       "\n",
       "    .dataframe thead th {\n",
       "        text-align: right;\n",
       "    }\n",
       "</style>\n",
       "<table border=\"1\" class=\"dataframe\">\n",
       "  <thead>\n",
       "    <tr style=\"text-align: right;\">\n",
       "      <th></th>\n",
       "      <th>party</th>\n",
       "      <th>url</th>\n",
       "      <th>title</th>\n",
       "      <th>sentence</th>\n",
       "    </tr>\n",
       "  </thead>\n",
       "  <tbody>\n",
       "    <tr>\n",
       "      <th>0</th>\n",
       "      <td>BBB</td>\n",
       "      <td>https://boerburgerbeweging.nl/wp-content/uploa...</td>\n",
       "      <td>BBB partijprogramma 2023</td>\n",
       "      <td>Van Vertrouwenscrisis naar Noaberstaat</td>\n",
       "    </tr>\n",
       "    <tr>\n",
       "      <th>1</th>\n",
       "      <td>BBB</td>\n",
       "      <td>https://boerburgerbeweging.nl/wp-content/uploa...</td>\n",
       "      <td>BBB partijprogramma 2023</td>\n",
       "      <td>Visie en Verkiezingsprogramma 2023-2027</td>\n",
       "    </tr>\n",
       "    <tr>\n",
       "      <th>2</th>\n",
       "      <td>BBB</td>\n",
       "      <td>https://boerburgerbeweging.nl/wp-content/uploa...</td>\n",
       "      <td>BBB partijprogramma 2023</td>\n",
       "      <td>DANKWOORD Graag richt ik een bijzonder woord v...</td>\n",
       "    </tr>\n",
       "    <tr>\n",
       "      <th>3</th>\n",
       "      <td>BBB</td>\n",
       "      <td>https://boerburgerbeweging.nl/wp-content/uploa...</td>\n",
       "      <td>BBB partijprogramma 2023</td>\n",
       "      <td>Programmacommissie, werkgroepen, schrijfteam, ...</td>\n",
       "    </tr>\n",
       "    <tr>\n",
       "      <th>4</th>\n",
       "      <td>BBB</td>\n",
       "      <td>https://boerburgerbeweging.nl/wp-content/uploa...</td>\n",
       "      <td>BBB partijprogramma 2023</td>\n",
       "      <td>We zijn jullie zonder uitzondering zeer veel d...</td>\n",
       "    </tr>\n",
       "  </tbody>\n",
       "</table>\n",
       "</div>"
      ],
      "text/plain": [
       "  party                                                url  \\\n",
       "0   BBB  https://boerburgerbeweging.nl/wp-content/uploa...   \n",
       "1   BBB  https://boerburgerbeweging.nl/wp-content/uploa...   \n",
       "2   BBB  https://boerburgerbeweging.nl/wp-content/uploa...   \n",
       "3   BBB  https://boerburgerbeweging.nl/wp-content/uploa...   \n",
       "4   BBB  https://boerburgerbeweging.nl/wp-content/uploa...   \n",
       "\n",
       "                      title                                           sentence  \n",
       "0  BBB partijprogramma 2023             Van Vertrouwenscrisis naar Noaberstaat  \n",
       "1  BBB partijprogramma 2023            Visie en Verkiezingsprogramma 2023-2027  \n",
       "2  BBB partijprogramma 2023  DANKWOORD Graag richt ik een bijzonder woord v...  \n",
       "3  BBB partijprogramma 2023  Programmacommissie, werkgroepen, schrijfteam, ...  \n",
       "4  BBB partijprogramma 2023  We zijn jullie zonder uitzondering zeer veel d...  "
      ]
     },
     "execution_count": 22,
     "metadata": {},
     "output_type": "execute_result"
    }
   ],
   "source": [
    "sentence_data = pd.DataFrame(rows)\n",
    "\n",
    "sentence_data.head(5)"
   ]
  },
  {
   "cell_type": "code",
   "execution_count": 5,
   "id": "2d2c96ae",
   "metadata": {},
   "outputs": [],
   "source": [
    "sentence_data['sentence_id'] = range(len(sentence_data))"
   ]
  },
  {
   "cell_type": "markdown",
   "id": "9d16d2ed",
   "metadata": {},
   "source": [
    "## Predict sentences"
   ]
  },
  {
   "cell_type": "code",
   "execution_count": 6,
   "id": "bbfee7ca",
   "metadata": {},
   "outputs": [],
   "source": [
    "import os\n",
    "import torch\n",
    "from transformers import pipeline\n",
    "from transformers import AutoModelForSequenceClassification, AutoTokenizer\n",
    "\n",
    "os.environ['PYTORCH_ENABLE_MPS_FALLBACK'] = '1'\n",
    "\n",
    "class CMPClassifier:\n",
    "    def __init__(self):\n",
    "        self.model = AutoModelForSequenceClassification.from_pretrained(\n",
    "            \"manifesto-project/manifestoberta-xlm-roberta-56policy-topics-context-2023-1-1\", \n",
    "            trust_remote_code=True)\n",
    "        self.tokenizer = AutoTokenizer.from_pretrained(\"xlm-roberta-large\")\n",
    "        self.device = \"cuda\" if torch.cuda.is_available() else \"mps\"\n",
    "        self.model.to(self.device)\n",
    "\n",
    "    def predict(self, text, context=None):\n",
    "        inputs = self.tokenizer(\n",
    "            text,\n",
    "            context or text,\n",
    "            return_tensors=\"pt\",\n",
    "            max_length=300, \n",
    "            padding=\"max_length\",\n",
    "            truncation=True,\n",
    "        ).to(self.device)\n",
    "\n",
    "        logits = self.model(**inputs).logits\n",
    "        probabilities = torch.softmax(logits, dim=1).tolist()[0]\n",
    "\n",
    "        for i, p in sorted(enumerate(probabilities), key=lambda item: -item[1]):\n",
    "            yield self.model.config.id2label[i], p\n",
    "        \n",
    "class RelevanceClassifier:\n",
    "    def __init__(self):\n",
    "        self.model = AutoModelForSequenceClassification.from_pretrained(\n",
    "            \"joris/manifesto-dutch-binary-relevance\")\n",
    "        self.tokenizer = AutoTokenizer.from_pretrained(\"joris/manifesto-dutch-binary-relevance\")\n",
    "        self.device = \"cuda\" if torch.cuda.is_available() else \"mps\"\n",
    "        self.model.to(self.device)\n",
    "        self.id2label = {0: 'Other', 1: '000'}\n",
    "        \n",
    "    def predict(self, text):\n",
    "        inputs = self.tokenizer(\n",
    "            text,\n",
    "            return_tensors=\"pt\",\n",
    "            max_length=128, \n",
    "            padding=\"max_length\",\n",
    "            truncation=True,\n",
    "        ).to(self.device)\n",
    "\n",
    "        logits = self.model(**inputs).logits\n",
    "        probabilities = torch.softmax(logits, dim=1).tolist()[0]\n",
    "        for i, p in sorted(enumerate(probabilities), key=lambda item: -item[1]):\n",
    "            yield self.id2label[i], p\n",
    "        \n",
    "relevance_clf = RelevanceClassifier()\n",
    "cmp_clf = CMPClassifier()"
   ]
  },
  {
   "cell_type": "code",
   "execution_count": 26,
   "id": "e6cf6402",
   "metadata": {},
   "outputs": [
    {
     "data": {
      "application/vnd.jupyter.widget-view+json": {
       "model_id": "ce6f5f9ab4a14c0f83dc5a4e0040d920",
       "version_major": 2,
       "version_minor": 0
      },
      "text/plain": [
       "  0%|          | 0/384 [00:00<?, ?it/s]"
      ]
     },
     "metadata": {},
     "output_type": "display_data"
    },
    {
     "data": {
      "application/vnd.jupyter.widget-view+json": {
       "model_id": "59f042ad1c1842988ba5a889eb58f38e",
       "version_major": 2,
       "version_minor": 0
      },
      "text/plain": [
       "  0%|          | 0/3218 [00:00<?, ?it/s]"
      ]
     },
     "metadata": {},
     "output_type": "display_data"
    },
    {
     "data": {
      "application/vnd.jupyter.widget-view+json": {
       "model_id": "40a2eddc7d484112a258c1f5fbef0597",
       "version_major": 2,
       "version_minor": 0
      },
      "text/plain": [
       "  0%|          | 0/1271 [00:00<?, ?it/s]"
      ]
     },
     "metadata": {},
     "output_type": "display_data"
    },
    {
     "data": {
      "application/vnd.jupyter.widget-view+json": {
       "model_id": "ba24e6cc3a71455baae6bee120bf0d22",
       "version_major": 2,
       "version_minor": 0
      },
      "text/plain": [
       "  0%|          | 0/2162 [00:00<?, ?it/s]"
      ]
     },
     "metadata": {},
     "output_type": "display_data"
    },
    {
     "data": {
      "application/vnd.jupyter.widget-view+json": {
       "model_id": "4e13828b10f34df39e724be707120d04",
       "version_major": 2,
       "version_minor": 0
      },
      "text/plain": [
       "  0%|          | 0/1518 [00:00<?, ?it/s]"
      ]
     },
     "metadata": {},
     "output_type": "display_data"
    },
    {
     "data": {
      "application/vnd.jupyter.widget-view+json": {
       "model_id": "46b56bb098294fa2969d1f1996737f2a",
       "version_major": 2,
       "version_minor": 0
      },
      "text/plain": [
       "  0%|          | 0/6140 [00:00<?, ?it/s]"
      ]
     },
     "metadata": {},
     "output_type": "display_data"
    },
    {
     "data": {
      "application/vnd.jupyter.widget-view+json": {
       "model_id": "6965ede602de48dfbd59f56d9aff9da2",
       "version_major": 2,
       "version_minor": 0
      },
      "text/plain": [
       "  0%|          | 0/7581 [00:00<?, ?it/s]"
      ]
     },
     "metadata": {},
     "output_type": "display_data"
    },
    {
     "data": {
      "application/vnd.jupyter.widget-view+json": {
       "model_id": "805c39ab02b5440080a712a5d9a4f516",
       "version_major": 2,
       "version_minor": 0
      },
      "text/plain": [
       "  0%|          | 0/2213 [00:00<?, ?it/s]"
      ]
     },
     "metadata": {},
     "output_type": "display_data"
    },
    {
     "data": {
      "application/vnd.jupyter.widget-view+json": {
       "model_id": "99a836c8ba8d412fa1057fcab42cf274",
       "version_major": 2,
       "version_minor": 0
      },
      "text/plain": [
       "  0%|          | 0/1769 [00:00<?, ?it/s]"
      ]
     },
     "metadata": {},
     "output_type": "display_data"
    },
    {
     "data": {
      "application/vnd.jupyter.widget-view+json": {
       "model_id": "d451f8c73f6a4483b52df449cca96263",
       "version_major": 2,
       "version_minor": 0
      },
      "text/plain": [
       "  0%|          | 0/3405 [00:00<?, ?it/s]"
      ]
     },
     "metadata": {},
     "output_type": "display_data"
    },
    {
     "data": {
      "application/vnd.jupyter.widget-view+json": {
       "model_id": "05d3776728ac4c51a1ba6b335ed1eeb2",
       "version_major": 2,
       "version_minor": 0
      },
      "text/plain": [
       "  0%|          | 0/1993 [00:00<?, ?it/s]"
      ]
     },
     "metadata": {},
     "output_type": "display_data"
    },
    {
     "data": {
      "application/vnd.jupyter.widget-view+json": {
       "model_id": "575bbc421ba3439c83b145c150ed911b",
       "version_major": 2,
       "version_minor": 0
      },
      "text/plain": [
       "  0%|          | 0/2340 [00:00<?, ?it/s]"
      ]
     },
     "metadata": {},
     "output_type": "display_data"
    },
    {
     "data": {
      "application/vnd.jupyter.widget-view+json": {
       "model_id": "a0afedded1d84ef1be11f9048276fd8e",
       "version_major": 2,
       "version_minor": 0
      },
      "text/plain": [
       "  0%|          | 0/852 [00:00<?, ?it/s]"
      ]
     },
     "metadata": {},
     "output_type": "display_data"
    },
    {
     "data": {
      "application/vnd.jupyter.widget-view+json": {
       "model_id": "293f000d847a4e6f96eb42385796ff50",
       "version_major": 2,
       "version_minor": 0
      },
      "text/plain": [
       "  0%|          | 0/3597 [00:00<?, ?it/s]"
      ]
     },
     "metadata": {},
     "output_type": "display_data"
    },
    {
     "data": {
      "application/vnd.jupyter.widget-view+json": {
       "model_id": "ce40f4985d9b46f2ac2a345a0f5f252d",
       "version_major": 2,
       "version_minor": 0
      },
      "text/plain": [
       "  0%|          | 0/875 [00:00<?, ?it/s]"
      ]
     },
     "metadata": {},
     "output_type": "display_data"
    },
    {
     "data": {
      "application/vnd.jupyter.widget-view+json": {
       "model_id": "01e48b8bdf8f43edb6fa3a9de8c21f16",
       "version_major": 2,
       "version_minor": 0
      },
      "text/plain": [
       "  0%|          | 0/947 [00:00<?, ?it/s]"
      ]
     },
     "metadata": {},
     "output_type": "display_data"
    },
    {
     "data": {
      "application/vnd.jupyter.widget-view+json": {
       "model_id": "0512f1d94f3345f087fc58cc487a146c",
       "version_major": 2,
       "version_minor": 0
      },
      "text/plain": [
       "  0%|          | 0/3185 [00:00<?, ?it/s]"
      ]
     },
     "metadata": {},
     "output_type": "display_data"
    },
    {
     "data": {
      "application/vnd.jupyter.widget-view+json": {
       "model_id": "cf3083be6fc04954bf5477db94a73a8e",
       "version_major": 2,
       "version_minor": 0
      },
      "text/plain": [
       "  0%|          | 0/3516 [00:00<?, ?it/s]"
      ]
     },
     "metadata": {},
     "output_type": "display_data"
    }
   ],
   "source": [
    "import re\n",
    "\n",
    "def remove_non_printable_chars(text):\n",
    "    printable_chars = ''.join(map(chr, range(32, 127)))\n",
    "    printable_chars += '\\n\\t\\r'\n",
    "    return re.sub(f'[^{printable_chars}]', '', text)\n",
    "                  \n",
    "id2labels = dict()\n",
    "for party, party_df in sentence_data.groupby('party'):\n",
    "    sentences_by_party = list(party_df.sentence.values)\n",
    "    sentence_ids = list(party_df.sentence_id.values)\n",
    "    sentences_by_party = [remove_non_printable_chars(sent) for sent in sentences_by_party]\n",
    "    for i, sentence in enumerate(tqdm(sentences_by_party)):\n",
    "        context = ' '.join(sentences_by_party[i-1 if i > 0 else 0:\n",
    "                                     i+3])\n",
    "        cmp, confidence = list(relevance_clf.predict(sentence))[0]\n",
    "        if cmp != '000':\n",
    "            cmp, confidence = list(cmp_clf.predict(sentence, context))[0]\n",
    "        id2labels[sentence_ids[i]] = (cmp, confidence)"
   ]
  },
  {
   "cell_type": "code",
   "execution_count": 7,
   "id": "bb6bc094",
   "metadata": {},
   "outputs": [],
   "source": [
    "sentence_data['label'] = sentence_data.sentence_id.apply(lambda x: id2labels[x][0][:3])\n",
    "sentence_data['country'] = 'Netherlands'\n",
    "sentence_data['date'] = '2023-10-01'\n",
    "\n",
    "sentence_data = sentence_data[['sentence', 'party', 'country', 'date', 'label']]\n",
    "sentence_data.columns = ['text', 'party', 'country', 'date', 'code']\n",
    "\n",
    "sentence_data.to_csv('data/manifestos_nl_2023_coded_sents.csv', index=False)"
   ]
  }
 ],
 "metadata": {
  "kernelspec": {
   "display_name": "Python 3 (ipykernel)",
   "language": "python",
   "name": "python3"
  },
  "language_info": {
   "codemirror_mode": {
    "name": "ipython",
    "version": 3
   },
   "file_extension": ".py",
   "mimetype": "text/x-python",
   "name": "python",
   "nbconvert_exporter": "python",
   "pygments_lexer": "ipython3",
   "version": "3.9.13"
  }
 },
 "nbformat": 4,
 "nbformat_minor": 5
}
